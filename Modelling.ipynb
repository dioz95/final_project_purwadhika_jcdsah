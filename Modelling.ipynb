{
 "cells": [
  {
   "cell_type": "markdown",
   "metadata": {},
   "source": [
    "## Modelling Strategy"
   ]
  },
  {
   "cell_type": "markdown",
   "metadata": {},
   "source": [
    "**Preprocessing**\n",
    "\n",
    "From all the insights we get from previous EDA section, there are quite many approaches we could try especially on the data preprocessing. For each feature is the data, the strategies could be listed as follows:\n",
    "\n",
    "1. `id` : dropped\n",
    "2. `Gender`\n",
    "    - Kind : Categorical - Nominal\n",
    "    - Categories no. : 2\n",
    "    - Preprocessing : One-Hot\n",
    "3. `Age`\n",
    "    - Kind: Numerical\n",
    "    - Distribution : Not normal\n",
    "    - Preprocessing : \n",
    "        - Polynomial with `Vintage`\n",
    "        - PCAed with `Vintage` and `Annual_Premium`\n",
    "4. `Driving_License`\n",
    "    - Kind : Categorical - Ordinal\n",
    "    - Categories no. : 2\n",
    "    - Preprocessing : Already represented in integer (1 0)\n",
    "5. `Region_Code`\n",
    "    - Kind : Categorical - Nominal\n",
    "    - Categories no. : Many, with rare labels\n",
    "    - Preprocessing :\n",
    "        - Binary, or\n",
    "        - Rare labels encoding\n",
    "6. `Previously_Insured`\n",
    "    - Kind : Categorical - Ordinal\n",
    "    - Categories no. : 2\n",
    "    - Preprocessing : Already represented in integer (1 0)\n",
    "7. `Vehicle_Age`\n",
    "    - Kind : Categorical - Ordinal\n",
    "    - Categories no. : 3\n",
    "    - Preprocessing : One-Hot encoding\n",
    "8. `Vehicle_Damage`\n",
    "    - Kind : Categorical - Ordinal\n",
    "    - Categories no. : 2\n",
    "    - Preprocessing :\n",
    "        - One-Hot (with drop first) and label encoding will return similar value\n",
    "9. `Annual_Premium`\n",
    "    - Kind : Numerical - Continous\n",
    "    - Distribution : Not normal, may outliers\n",
    "    - Preprocessing :\n",
    "        - Remove outliers and PCA, or\n",
    "        - Keep outliers and PCA with `Age` and `Vintage`\n",
    "10. `Policy_Sales_Channel`\n",
    "    - Kind : Categorical - Nominal\n",
    "    - Categories no. : Many, with rare labels\n",
    "    - Preprocessing:\n",
    "        - Binary, or\n",
    "        - Rare labels encoding\n",
    "11. `Vintage`\n",
    "    - Kind : Numerical - Discrete\n",
    "    - Distribution: Not Normal\n",
    "    - Preprocessing:\n",
    "        - PCAed with `Age` and `Annual_Premium` or,\n",
    "        - Polynomial with `Age` and `Annual_Premium`\n",
    "12. `Target`\n",
    "    - Kind : Categorical\n",
    "    - Categories no. : 2\n",
    "    - Preprocessing:\n",
    "        - Random under-sampling\n",
    "        - SMOTE\n",
    "        \n",
    "**Modelling**\n",
    "\n",
    "In this project I decide to try three baseline models:\n",
    "1. Logistic Regression : Represent parametric method\n",
    "2. Decision Tree : Represent non-parametric method\n",
    "3. Light Gradient Boosting Classifier : Represent ensemble method\n",
    "\n",
    "**Evaluation Criteria**\n",
    "\n",
    "As the business requirement needs the model that precise enough to detect potential customer but not too highly selective I decide to consider multi evaluation criterion such as:\n",
    "- f1 : This is the main evaluation metric since we want the balance between precision and recall\n",
    "- AUC : This is the additional metric"
   ]
  },
  {
   "cell_type": "code",
   "execution_count": 1,
   "metadata": {},
   "outputs": [],
   "source": [
    "import pandas as pd\n",
    "import numpy as np\n",
    "\n",
    "import seaborn as sns\n",
    "import matplotlib.pyplot as plt\n",
    "\n",
    "from sklearn.preprocessing import PolynomialFeatures, StandardScaler\n",
    "\n",
    "from sklearn.model_selection import train_test_split\n",
    "from sklearn.model_selection import cross_validate, StratifiedKFold\n",
    "from sklearn.linear_model import LogisticRegression\n",
    "from sklearn.neighbors import KNeighborsClassifier\n",
    "from sklearn.tree import DecisionTreeClassifier\n",
    "from sklearn.decomposition import PCA\n",
    "from sklearn.model_selection import GridSearchCV, StratifiedKFold\n",
    "from sklearn.preprocessing import OneHotEncoder, LabelEncoder, LabelBinarizer, StandardScaler\n",
    "from sklearn.calibration import calibration_curve, CalibratedClassifierCV\n",
    "from sklearn.compose import ColumnTransformer\n",
    "\n",
    "from scipy import stats\n",
    "\n",
    "import category_encoders as ce\n",
    "from feature_engine.categorical_encoders import RareLabelCategoricalEncoder\n",
    "\n",
    "from imblearn.pipeline import Pipeline\n",
    "from imblearn.over_sampling import RandomOverSampler, SMOTE\n",
    "\n",
    "from lightgbm import LGBMClassifier\n",
    "\n",
    "from sklearn.metrics import confusion_matrix, classification_report, plot_confusion_matrix, plot_roc_curve, brier_score_loss, roc_auc_score, f1_score\n",
    "import warnings\n",
    "warnings.filterwarnings('ignore')"
   ]
  },
  {
   "cell_type": "code",
   "execution_count": 2,
   "metadata": {},
   "outputs": [
    {
     "data": {
      "text/html": [
       "<div>\n",
       "<style scoped>\n",
       "    .dataframe tbody tr th:only-of-type {\n",
       "        vertical-align: middle;\n",
       "    }\n",
       "\n",
       "    .dataframe tbody tr th {\n",
       "        vertical-align: top;\n",
       "    }\n",
       "\n",
       "    .dataframe thead th {\n",
       "        text-align: right;\n",
       "    }\n",
       "</style>\n",
       "<table border=\"1\" class=\"dataframe\">\n",
       "  <thead>\n",
       "    <tr style=\"text-align: right;\">\n",
       "      <th></th>\n",
       "      <th>id</th>\n",
       "      <th>Gender</th>\n",
       "      <th>Age</th>\n",
       "      <th>Driving_License</th>\n",
       "      <th>Region_Code</th>\n",
       "      <th>Previously_Insured</th>\n",
       "      <th>Vehicle_Age</th>\n",
       "      <th>Vehicle_Damage</th>\n",
       "      <th>Annual_Premium</th>\n",
       "      <th>Policy_Sales_Channel</th>\n",
       "      <th>Vintage</th>\n",
       "      <th>Response</th>\n",
       "    </tr>\n",
       "  </thead>\n",
       "  <tbody>\n",
       "    <tr>\n",
       "      <th>0</th>\n",
       "      <td>1</td>\n",
       "      <td>Male</td>\n",
       "      <td>44</td>\n",
       "      <td>1</td>\n",
       "      <td>28.0</td>\n",
       "      <td>0</td>\n",
       "      <td>&gt; 2 Years</td>\n",
       "      <td>Yes</td>\n",
       "      <td>40454.0</td>\n",
       "      <td>26.0</td>\n",
       "      <td>217</td>\n",
       "      <td>1</td>\n",
       "    </tr>\n",
       "    <tr>\n",
       "      <th>1</th>\n",
       "      <td>2</td>\n",
       "      <td>Male</td>\n",
       "      <td>76</td>\n",
       "      <td>1</td>\n",
       "      <td>3.0</td>\n",
       "      <td>0</td>\n",
       "      <td>1-2 Year</td>\n",
       "      <td>No</td>\n",
       "      <td>33536.0</td>\n",
       "      <td>26.0</td>\n",
       "      <td>183</td>\n",
       "      <td>0</td>\n",
       "    </tr>\n",
       "    <tr>\n",
       "      <th>2</th>\n",
       "      <td>3</td>\n",
       "      <td>Male</td>\n",
       "      <td>47</td>\n",
       "      <td>1</td>\n",
       "      <td>28.0</td>\n",
       "      <td>0</td>\n",
       "      <td>&gt; 2 Years</td>\n",
       "      <td>Yes</td>\n",
       "      <td>38294.0</td>\n",
       "      <td>26.0</td>\n",
       "      <td>27</td>\n",
       "      <td>1</td>\n",
       "    </tr>\n",
       "    <tr>\n",
       "      <th>3</th>\n",
       "      <td>4</td>\n",
       "      <td>Male</td>\n",
       "      <td>21</td>\n",
       "      <td>1</td>\n",
       "      <td>11.0</td>\n",
       "      <td>1</td>\n",
       "      <td>&lt; 1 Year</td>\n",
       "      <td>No</td>\n",
       "      <td>28619.0</td>\n",
       "      <td>152.0</td>\n",
       "      <td>203</td>\n",
       "      <td>0</td>\n",
       "    </tr>\n",
       "    <tr>\n",
       "      <th>4</th>\n",
       "      <td>5</td>\n",
       "      <td>Female</td>\n",
       "      <td>29</td>\n",
       "      <td>1</td>\n",
       "      <td>41.0</td>\n",
       "      <td>1</td>\n",
       "      <td>&lt; 1 Year</td>\n",
       "      <td>No</td>\n",
       "      <td>27496.0</td>\n",
       "      <td>152.0</td>\n",
       "      <td>39</td>\n",
       "      <td>0</td>\n",
       "    </tr>\n",
       "  </tbody>\n",
       "</table>\n",
       "</div>"
      ],
      "text/plain": [
       "   id  Gender  Age  Driving_License  Region_Code  Previously_Insured  \\\n",
       "0   1    Male   44                1         28.0                   0   \n",
       "1   2    Male   76                1          3.0                   0   \n",
       "2   3    Male   47                1         28.0                   0   \n",
       "3   4    Male   21                1         11.0                   1   \n",
       "4   5  Female   29                1         41.0                   1   \n",
       "\n",
       "  Vehicle_Age Vehicle_Damage  Annual_Premium  Policy_Sales_Channel  Vintage  \\\n",
       "0   > 2 Years            Yes         40454.0                  26.0      217   \n",
       "1    1-2 Year             No         33536.0                  26.0      183   \n",
       "2   > 2 Years            Yes         38294.0                  26.0       27   \n",
       "3    < 1 Year             No         28619.0                 152.0      203   \n",
       "4    < 1 Year             No         27496.0                 152.0       39   \n",
       "\n",
       "   Response  \n",
       "0         1  \n",
       "1         0  \n",
       "2         1  \n",
       "3         0  \n",
       "4         0  "
      ]
     },
     "execution_count": 2,
     "metadata": {},
     "output_type": "execute_result"
    }
   ],
   "source": [
    "df = pd.read_csv('./archive/train.csv')\n",
    "df.head()"
   ]
  },
  {
   "cell_type": "code",
   "execution_count": 3,
   "metadata": {},
   "outputs": [],
   "source": [
    "df['Region_Code'] = df['Region_Code'].apply(str)\n",
    "df['Policy_Sales_Channel'] = df['Policy_Sales_Channel'].apply(str)"
   ]
  },
  {
   "cell_type": "code",
   "execution_count": 4,
   "metadata": {},
   "outputs": [],
   "source": [
    "X = df.drop(['id', 'Response'], axis=1)\n",
    "y = df['Response']"
   ]
  },
  {
   "cell_type": "code",
   "execution_count": 5,
   "metadata": {},
   "outputs": [],
   "source": [
    "X_train_val, X_test, y_train_val, y_test = train_test_split(X, y, stratify=y, test_size=0.3,\n",
    "                                                            random_state=2021)"
   ]
  },
  {
   "cell_type": "code",
   "execution_count": 6,
   "metadata": {},
   "outputs": [
    {
     "name": "stdout",
     "output_type": "stream",
     "text": [
      "<class 'pandas.core.frame.DataFrame'>\n",
      "Int64Index: 266776 entries, 371092 to 373928\n",
      "Data columns (total 10 columns):\n",
      " #   Column                Non-Null Count   Dtype  \n",
      "---  ------                --------------   -----  \n",
      " 0   Gender                266776 non-null  object \n",
      " 1   Age                   266776 non-null  int64  \n",
      " 2   Driving_License       266776 non-null  int64  \n",
      " 3   Region_Code           266776 non-null  object \n",
      " 4   Previously_Insured    266776 non-null  int64  \n",
      " 5   Vehicle_Age           266776 non-null  object \n",
      " 6   Vehicle_Damage        266776 non-null  object \n",
      " 7   Annual_Premium        266776 non-null  float64\n",
      " 8   Policy_Sales_Channel  266776 non-null  object \n",
      " 9   Vintage               266776 non-null  int64  \n",
      "dtypes: float64(1), int64(4), object(5)\n",
      "memory usage: 22.4+ MB\n"
     ]
    }
   ],
   "source": [
    "X_train_val.info()"
   ]
  },
  {
   "cell_type": "markdown",
   "metadata": {},
   "source": [
    "> ### Try base models"
   ]
  },
  {
   "cell_type": "code",
   "execution_count": 7,
   "metadata": {},
   "outputs": [],
   "source": [
    "def try_models(\n",
    "    model='lr',\n",
    "    num='pca',\n",
    "    region_psc='binary',\n",
    "    sampling='ros'\n",
    "):\n",
    "    oh_enc = OneHotEncoder(drop='first')\n",
    "    binary_enc = ce.BinaryEncoder()\n",
    "    rare_encoder = RareLabelCategoricalEncoder(\n",
    "        tol = 0.05,  # minimal percentage to be considered non-rare\n",
    "        n_categories = 4, # minimal number of categories the variable should have to re-cgroup rare categories\n",
    "        variables = ['Region_Code', 'Policy_Sales_Channel'] # variables to re-group\n",
    "    )  \n",
    "    scaler = StandardScaler()\n",
    "    pca = PCA(n_components=2)\n",
    "    poly = PolynomialFeatures(degree=2)\n",
    "    ros = RandomOverSampler(random_state=2021)\n",
    "    smote = SMOTE(random_state=2021)\n",
    "    \n",
    "    lr = LogisticRegression()\n",
    "    dtc = DecisionTreeClassifier()\n",
    "    lgbm = LGBMClassifier(n_jobs=-1)\n",
    "    skf = StratifiedKFold(n_splits=5)\n",
    "    \n",
    "    if num == 'pca':\n",
    "        num_pipe = Pipeline([\n",
    "            ('scaler', scaler),\n",
    "            ('pca', pca)\n",
    "        ])\n",
    "    elif num == 'poly':\n",
    "        num_pipe = Pipeline([\n",
    "            ('scaler', scaler),\n",
    "            ('poly', poly)\n",
    "        ])\n",
    "    \n",
    "    if region_psc == 'binary':\n",
    "        region_psc_pipe = Pipeline([\n",
    "            ('binary', binary_enc)\n",
    "        ])\n",
    "    elif region_psc == 'rare':\n",
    "        region_psc_pipe = Pipeline([\n",
    "            ('rare', rare_encoder),\n",
    "            ('binary_rare', binary_enc)\n",
    "        ])\n",
    "        \n",
    "    transformer = ColumnTransformer([\n",
    "        ('one_hot_encoder', OneHotEncoder(drop='first'), ['Gender', 'Vehicle_Age', 'Vehicle_Damage']),\n",
    "        ('numerical_prep', num_pipe, ['Age', 'Vintage', 'Annual_Premium']),\n",
    "        ('region_psc_pred', region_psc_pipe, ['Region_Code', 'Policy_Sales_Channel'])\n",
    "    ], remainder='passthrough')\n",
    "    \n",
    "    if sampling == 'ros':\n",
    "        res = ros\n",
    "    elif sampling == 'smote':\n",
    "        res = smote\n",
    "    \n",
    "    if model == 'lr':\n",
    "        clf = lr\n",
    "    elif model == 'dtc':\n",
    "        clf = dtc\n",
    "    elif model == 'lgbm':\n",
    "        clf = lgbm\n",
    "             \n",
    "    estimator = Pipeline([\n",
    "        ('preprocess', transformer),\n",
    "        ('balancing', res),\n",
    "        ('clf', clf)\n",
    "    ])\n",
    "        \n",
    "    model_cv = cross_validate(estimator, X_train_val, y_train_val, cv=skf, \n",
    "                              scoring=('f1', 'roc_auc'))\n",
    "    \n",
    "    return estimator, pd.DataFrame(model_cv)"
   ]
  },
  {
   "cell_type": "code",
   "execution_count": 8,
   "metadata": {},
   "outputs": [
    {
     "name": "stdout",
     "output_type": "stream",
     "text": [
      "Mean f1 of lr_pca_binary_ros : 0.4119998850269407\n",
      "Mean roc_auc of lr_pca_binary_ros : 0.8317342256737247\n",
      "STD f1 of lr_pca_binary_ros : 0.0007085230019235256\n",
      "STD roc_auc of lr_pca_binary_ros : 0.0012754680112566684\n",
      "\n",
      "Mean f1 of lr_pca_binary_smote : 0.41302760421995216\n",
      "Mean roc_auc of lr_pca_binary_smote : 0.8318920966617261\n",
      "STD f1 of lr_pca_binary_smote : 0.0011240438956961018\n",
      "STD roc_auc of lr_pca_binary_smote : 0.0013668169205493376\n",
      "\n",
      "Mean f1 of lr_pca_rare_ros : 0.4046959293062472\n",
      "Mean roc_auc of lr_pca_rare_ros : 0.8263203466446676\n",
      "STD f1 of lr_pca_rare_ros : 0.0016705637679206302\n",
      "STD roc_auc of lr_pca_rare_ros : 0.002733668213513657\n",
      "\n",
      "Mean f1 of lr_pca_rare_smote : 0.4046551532320657\n",
      "Mean roc_auc of lr_pca_rare_smote : 0.826452079927314\n",
      "STD f1 of lr_pca_rare_smote : 0.001888667637270041\n",
      "STD roc_auc of lr_pca_rare_smote : 0.0027249484089845928\n",
      "\n",
      "Mean f1 of lr_poly_binary_ros : 0.42205057615830127\n",
      "Mean roc_auc of lr_poly_binary_ros : 0.843901643512775\n",
      "STD f1 of lr_poly_binary_ros : 0.001427991403316275\n",
      "STD roc_auc of lr_poly_binary_ros : 0.0008328196883227196\n",
      "\n",
      "Mean f1 of lr_poly_binary_smote : 0.42313084900040066\n",
      "Mean roc_auc of lr_poly_binary_smote : 0.8433842885153624\n",
      "STD f1 of lr_poly_binary_smote : 0.0014004384616955856\n",
      "STD roc_auc of lr_poly_binary_smote : 0.0009022327150237922\n",
      "\n",
      "Mean f1 of lr_poly_rare_ros : 0.41525013747359363\n",
      "Mean roc_auc of lr_poly_rare_ros : 0.8408896514135469\n",
      "STD f1 of lr_poly_rare_ros : 0.0007358164935444688\n",
      "STD roc_auc of lr_poly_rare_ros : 0.0017924445157636217\n",
      "\n",
      "Mean f1 of lr_poly_rare_smote : 0.41525565797586006\n",
      "Mean roc_auc of lr_poly_rare_smote : 0.8406529283810752\n",
      "STD f1 of lr_poly_rare_smote : 0.0008252004631434458\n",
      "STD roc_auc of lr_poly_rare_smote : 0.001856302685027069\n",
      "\n",
      "Mean f1 of dtc_pca_binary_ros : 0.2772872679022415\n",
      "Mean roc_auc of dtc_pca_binary_ros : 0.5879049731858533\n",
      "STD f1 of dtc_pca_binary_ros : 0.005854772090036374\n",
      "STD roc_auc of dtc_pca_binary_ros : 0.0032972029950537147\n",
      "\n",
      "Mean f1 of dtc_pca_binary_smote : 0.35298311847628916\n",
      "Mean roc_auc of dtc_pca_binary_smote : 0.655176150156826\n",
      "STD f1 of dtc_pca_binary_smote : 0.002387060793634956\n",
      "STD roc_auc of dtc_pca_binary_smote : 0.0024389832381674905\n",
      "\n",
      "Mean f1 of dtc_pca_rare_ros : 0.26947847696612526\n",
      "Mean roc_auc of dtc_pca_rare_ros : 0.5836104009647645\n",
      "STD f1 of dtc_pca_rare_ros : 0.003399892974988569\n",
      "STD roc_auc of dtc_pca_rare_ros : 0.0019033957149556322\n",
      "\n",
      "Mean f1 of dtc_pca_rare_smote : 0.34677721345389456\n",
      "Mean roc_auc of dtc_pca_rare_smote : 0.6537163950654629\n",
      "STD f1 of dtc_pca_rare_smote : 0.007457070510349985\n",
      "STD roc_auc of dtc_pca_rare_smote : 0.006445022696980472\n",
      "\n",
      "Mean f1 of dtc_poly_binary_ros : 0.28715104173665046\n",
      "Mean roc_auc of dtc_poly_binary_ros : 0.5933647477140623\n",
      "STD f1 of dtc_poly_binary_ros : 0.00173870873269342\n",
      "STD roc_auc of dtc_poly_binary_ros : 0.0009829264869821803\n",
      "\n",
      "Mean f1 of dtc_poly_binary_smote : 0.2975289305641538\n",
      "Mean roc_auc of dtc_poly_binary_smote : 0.6015489922446878\n",
      "STD f1 of dtc_poly_binary_smote : 0.003360118063352832\n",
      "STD roc_auc of dtc_poly_binary_smote : 0.002211310547352112\n",
      "\n",
      "Mean f1 of dtc_poly_rare_ros : 0.28488083066425685\n",
      "Mean roc_auc of dtc_poly_rare_ros : 0.5923129826833473\n",
      "STD f1 of dtc_poly_rare_ros : 0.004895355138998675\n",
      "STD roc_auc of dtc_poly_rare_ros : 0.0027314675345060145\n",
      "\n",
      "Mean f1 of dtc_poly_rare_smote : 0.29770720407816814\n",
      "Mean roc_auc of dtc_poly_rare_smote : 0.603028517041096\n",
      "STD f1 of dtc_poly_rare_smote : 0.004511141672357922\n",
      "STD roc_auc of dtc_poly_rare_smote : 0.002630152377629049\n",
      "\n",
      "Mean f1 of lgbm_pca_binary_ros : 0.4269537573774742\n",
      "Mean roc_auc of lgbm_pca_binary_ros : 0.8459770608618568\n",
      "STD f1 of lgbm_pca_binary_ros : 0.0012371157365457985\n",
      "STD roc_auc of lgbm_pca_binary_ros : 0.0011343893127116387\n",
      "\n",
      "Mean f1 of lgbm_pca_binary_smote : 0.43329153727918646\n",
      "Mean roc_auc of lgbm_pca_binary_smote : 0.8420638560530177\n",
      "STD f1 of lgbm_pca_binary_smote : 0.0015912747423509387\n",
      "STD roc_auc of lgbm_pca_binary_smote : 0.0015123773146874827\n",
      "\n",
      "Mean f1 of lgbm_pca_rare_ros : 0.4214372848449595\n",
      "Mean roc_auc of lgbm_pca_rare_ros : 0.840810066895299\n",
      "STD f1 of lgbm_pca_rare_ros : 0.0014986995319870376\n",
      "STD roc_auc of lgbm_pca_rare_ros : 0.0012630644711859509\n",
      "\n",
      "Mean f1 of lgbm_pca_rare_smote : 0.4233297425145574\n",
      "Mean roc_auc of lgbm_pca_rare_smote : 0.8402607277548071\n",
      "STD f1 of lgbm_pca_rare_smote : 0.0020300552080639266\n",
      "STD roc_auc of lgbm_pca_rare_smote : 0.0016622943306457102\n",
      "\n",
      "Mean f1 of lgbm_poly_binary_ros : 0.43119112316439345\n",
      "Mean roc_auc of lgbm_poly_binary_ros : 0.8548058116779031\n",
      "STD f1 of lgbm_poly_binary_ros : 0.0006316888067304729\n",
      "STD roc_auc of lgbm_poly_binary_ros : 0.0006676087166085288\n",
      "\n",
      "Mean f1 of lgbm_poly_binary_smote : 0.38953493418155144\n",
      "Mean roc_auc of lgbm_poly_binary_smote : 0.8482734696155039\n",
      "STD f1 of lgbm_poly_binary_smote : 0.0074352165206115475\n",
      "STD roc_auc of lgbm_poly_binary_smote : 0.0008900335941302776\n",
      "\n",
      "Mean f1 of lgbm_poly_rare_ros : 0.4284969381260063\n",
      "Mean roc_auc of lgbm_poly_rare_ros : 0.8523879602939839\n",
      "STD f1 of lgbm_poly_rare_ros : 0.0006628093608949298\n",
      "STD roc_auc of lgbm_poly_rare_ros : 0.0012369134958188854\n",
      "\n",
      "Mean f1 of lgbm_poly_rare_smote : 0.4301522120430855\n",
      "Mean roc_auc of lgbm_poly_rare_smote : 0.8457989255394083\n",
      "STD f1 of lgbm_poly_rare_smote : 0.0032089666605705945\n",
      "STD roc_auc of lgbm_poly_rare_smote : 0.0010642551264896008\n",
      "\n"
     ]
    }
   ],
   "source": [
    "for m in ['lr', 'dtc', 'lgbm']:\n",
    "    for n in ['pca', 'poly']:\n",
    "        for rpsc in ['binary', 'rare']:\n",
    "            for sam in ['ros', 'smote']:\n",
    "                _ , model_cv = try_models(model=m, num=n, region_psc=rpsc, sampling=sam)\n",
    "                \n",
    "                print(f\"Mean f1 of {m}_{n}_{rpsc}_{sam} : {model_cv.test_f1.mean()}\")\n",
    "                print(f\"Mean roc_auc of {m}_{n}_{rpsc}_{sam} : {model_cv.test_roc_auc.mean()}\")\n",
    "                print(f\"STD f1 of {m}_{n}_{rpsc}_{sam} : {model_cv.test_f1.std()}\")\n",
    "                print(f\"STD roc_auc of {m}_{n}_{rpsc}_{sam} : {model_cv.test_roc_auc.std()}\")\n",
    "                print(\"\")"
   ]
  },
  {
   "cell_type": "markdown",
   "metadata": {},
   "source": [
    "From many trials we've done above, it could be seen that **logistic regression** and **lgbm** are two best base model for our business problem. To sum up, my selections of the preprocessing method falls to:\n",
    "1. Polynomial - Binary - SMOTE for the Logistic Regression model (f1 = 0.42313)\n",
    "2. PCA - Binary - SMOTE for LightGBM model (f1 = 0.43329)\n",
    "\n",
    "To ensure our model selection, let's run this model on the test data"
   ]
  },
  {
   "cell_type": "code",
   "execution_count": 18,
   "metadata": {},
   "outputs": [],
   "source": [
    "estimator_lr , _ = try_models(model='lr', num='poly', region_psc='binary', sampling='smote')\n",
    "estimator_lgbm, _ = try_models(model='lgbm', num='pca', region_psc='binary', sampling='smote')"
   ]
  },
  {
   "cell_type": "code",
   "execution_count": 19,
   "metadata": {},
   "outputs": [
    {
     "name": "stdout",
     "output_type": "stream",
     "text": [
      "f1 score: 0.4253698406211688\n",
      "AUC score: 0.8456950649522186\n"
     ]
    }
   ],
   "source": [
    "estimator_lr.fit(X_train_val, y_train_val)\n",
    "y_lr_pred = estimator_lr.predict(X_test)\n",
    "y_lr_proba = estimator_lr.predict_proba(X_test)[:,1]\n",
    "print(f'f1 score: {f1_score(y_test, y_lr_pred)}')\n",
    "print(f'AUC score: {roc_auc_score(y_test, y_lr_proba)}')"
   ]
  },
  {
   "cell_type": "code",
   "execution_count": 20,
   "metadata": {},
   "outputs": [
    {
     "name": "stdout",
     "output_type": "stream",
     "text": [
      "f1 score: 0.43412185876737336\n",
      "AUC score: 0.8432789692978188\n"
     ]
    }
   ],
   "source": [
    "estimator_lgbm.fit(X_train_val, y_train_val)\n",
    "y_lgbm_pred = estimator_lgbm.predict(X_test)\n",
    "y_lgbm_proba = estimator_lgbm.predict_proba(X_test)[:,1]\n",
    "print(f'f1 score: {f1_score(y_test, y_lgbm_pred)}')\n",
    "print(f'AUC score: {roc_auc_score(y_test, y_lgbm_proba)}')"
   ]
  },
  {
   "cell_type": "markdown",
   "metadata": {},
   "source": [
    "The result we obtained showed the test scores are slightly higher than the train scores, which is a sign of a good model"
   ]
  },
  {
   "cell_type": "markdown",
   "metadata": {},
   "source": [
    "After this, we going to see how these two set of preprocessing and models perform on the data without any outliers."
   ]
  },
  {
   "cell_type": "markdown",
   "metadata": {},
   "source": [
    "> ### Remove outliers on the training data"
   ]
  },
  {
   "cell_type": "code",
   "execution_count": 12,
   "metadata": {},
   "outputs": [],
   "source": [
    "filtered_entries = np.array([True] * len(X_train_val))\n",
    "\n",
    "col = 'Annual_Premium'\n",
    "Q1 = X_train_val[col].quantile(0.25)\n",
    "Q3 = X_train_val[col].quantile(0.75)\n",
    "IQR = Q3 - Q1\n",
    "low_limit = Q1 - (IQR * 1.5)\n",
    "high_limit = Q3 + (IQR * 1.5)\n",
    "\n",
    "filtered_entries = ((X_train_val[col] >= low_limit) & (X_train_val[col] <= high_limit)) & filtered_entries\n",
    "\n",
    "X_train_val_filtered, y_train_val_filtered = X_train_val[filtered_entries], y_train_val[filtered_entries]"
   ]
  },
  {
   "cell_type": "code",
   "execution_count": 13,
   "metadata": {},
   "outputs": [
    {
     "data": {
      "text/plain": [
       "((266776, 10), (259539, 10))"
      ]
     },
     "execution_count": 13,
     "metadata": {},
     "output_type": "execute_result"
    }
   ],
   "source": [
    "X_train_val.shape, X_train_val_filtered.shape"
   ]
  },
  {
   "cell_type": "code",
   "execution_count": 14,
   "metadata": {},
   "outputs": [],
   "source": [
    "def try_models_no_out(\n",
    "    model='lr',\n",
    "    num='pca',\n",
    "    region_psc='binary',\n",
    "    sampling='ros'\n",
    "):\n",
    "    oh_enc = OneHotEncoder(drop='first')\n",
    "    binary_enc = ce.BinaryEncoder()\n",
    "    rare_encoder = RareLabelCategoricalEncoder(\n",
    "        tol = 0.05,  # minimal percentage to be considered non-rare\n",
    "        n_categories = 4, # minimal number of categories the variable should have to re-cgroup rare categories\n",
    "        variables = ['Region_Code', 'Policy_Sales_Channel'] # variables to re-group\n",
    "    )  \n",
    "    scaler = StandardScaler()\n",
    "    pca = PCA(n_components=2)\n",
    "    poly = PolynomialFeatures(degree=2)\n",
    "    ros = RandomOverSampler(random_state=2021)\n",
    "    smote = SMOTE(random_state=2021)\n",
    "    \n",
    "    lr = LogisticRegression()\n",
    "    dtc = DecisionTreeClassifier()\n",
    "    lgbm = LGBMClassifier(n_jobs=-1)\n",
    "    skf = StratifiedKFold(n_splits=5)\n",
    "    \n",
    "    if num == 'pca':\n",
    "        num_pipe = Pipeline([\n",
    "            ('scaler', scaler),\n",
    "            ('pca', pca)\n",
    "        ])\n",
    "    elif num == 'poly':\n",
    "        num_pipe = Pipeline([\n",
    "            ('scaler', scaler),\n",
    "            ('poly', poly)\n",
    "        ])\n",
    "    \n",
    "    if region_psc == 'binary':\n",
    "        region_psc_pipe = Pipeline([\n",
    "            ('binary', binary_enc)\n",
    "        ])\n",
    "    elif region_psc == 'rare':\n",
    "        region_psc_pipe = Pipeline([\n",
    "            ('rare', rare_encoder),\n",
    "            ('binary_rare', binary_enc)\n",
    "        ])\n",
    "        \n",
    "    transformer = ColumnTransformer([\n",
    "        ('one_hot_encoder', OneHotEncoder(drop='first'), ['Gender', 'Vehicle_Age', 'Vehicle_Damage']),\n",
    "        ('numerical_prep', num_pipe, ['Age', 'Vintage', 'Annual_Premium']),\n",
    "        ('region_psc_pred', region_psc_pipe, ['Region_Code', 'Policy_Sales_Channel'])\n",
    "    ], remainder='passthrough')\n",
    "    \n",
    "    if sampling == 'ros':\n",
    "        res = ros\n",
    "    elif sampling == 'smote':\n",
    "        res = smote\n",
    "    \n",
    "    if model == 'lr':\n",
    "        clf = lr\n",
    "    elif model == 'dtc':\n",
    "        clf = dtc\n",
    "    elif model == 'lgbm':\n",
    "        clf = lgbm\n",
    "             \n",
    "    estimator = Pipeline([\n",
    "        ('preprocess', transformer),\n",
    "        ('balancing', res),\n",
    "        ('clf', clf)\n",
    "    ])\n",
    "        \n",
    "    model_cv = cross_validate(estimator, X_train_val_filtered, y_train_val_filtered, cv=skf, \n",
    "                              scoring=('f1', 'roc_auc'))\n",
    "    \n",
    "    return estimator, pd.DataFrame(model_cv)"
   ]
  },
  {
   "cell_type": "code",
   "execution_count": 15,
   "metadata": {},
   "outputs": [
    {
     "name": "stdout",
     "output_type": "stream",
     "text": [
      "Mean f1 of lr_pca_binary_ros : 0.41008973391603687\n",
      "Mean roc_auc of lr_pca_binary_ros : 0.8315215564818308\n",
      "STD f1 of lr_pca_binary_ros : 0.004740084362448618\n",
      "STD roc_auc of lr_pca_binary_ros : 0.0017195938310670313\n",
      "\n",
      "Mean f1 of lr_pca_binary_smote : 0.41068920140907467\n",
      "Mean roc_auc of lr_pca_binary_smote : 0.8316863117162985\n",
      "STD f1 of lr_pca_binary_smote : 0.004318806348198224\n",
      "STD roc_auc of lr_pca_binary_smote : 0.0017889926676559332\n",
      "\n",
      "Mean f1 of lr_pca_rare_ros : 0.40751224628667826\n",
      "Mean roc_auc of lr_pca_rare_ros : 0.826154898289141\n",
      "STD f1 of lr_pca_rare_ros : 0.007027247934677833\n",
      "STD roc_auc of lr_pca_rare_ros : 0.002657395229761245\n",
      "\n",
      "Mean f1 of lr_pca_rare_smote : 0.4060784853964492\n",
      "Mean roc_auc of lr_pca_rare_smote : 0.8260738101977335\n",
      "STD f1 of lr_pca_rare_smote : 0.007564084704489096\n",
      "STD roc_auc of lr_pca_rare_smote : 0.0026811754541837046\n",
      "\n",
      "Mean f1 of lr_poly_binary_ros : 0.42038265538714\n",
      "Mean roc_auc of lr_poly_binary_ros : 0.8441716244862569\n",
      "STD f1 of lr_poly_binary_ros : 0.004568560899465865\n",
      "STD roc_auc of lr_poly_binary_ros : 0.0012553678360899066\n",
      "\n",
      "Mean f1 of lr_poly_binary_smote : 0.420991242953441\n",
      "Mean roc_auc of lr_poly_binary_smote : 0.8436973738287803\n",
      "STD f1 of lr_poly_binary_smote : 0.003642725598678539\n",
      "STD roc_auc of lr_poly_binary_smote : 0.0012970257723290846\n",
      "\n",
      "Mean f1 of lr_poly_rare_ros : 0.41738758521836045\n",
      "Mean roc_auc of lr_poly_rare_ros : 0.8420254508516125\n",
      "STD f1 of lr_poly_rare_ros : 0.006249584414925374\n",
      "STD roc_auc of lr_poly_rare_ros : 0.002871522920254522\n",
      "\n",
      "Mean f1 of lr_poly_rare_smote : 0.41674106306562564\n",
      "Mean roc_auc of lr_poly_rare_smote : 0.8416234691832907\n",
      "STD f1 of lr_poly_rare_smote : 0.006424827878109717\n",
      "STD roc_auc of lr_poly_rare_smote : 0.002621303510527425\n",
      "\n",
      "Mean f1 of dtc_pca_binary_ros : 0.27596338680041094\n",
      "Mean roc_auc of dtc_pca_binary_ros : 0.5874206536119722\n",
      "STD f1 of dtc_pca_binary_ros : 0.004667484621393346\n",
      "STD roc_auc of dtc_pca_binary_ros : 0.0025545041438949883\n",
      "\n",
      "Mean f1 of dtc_pca_binary_smote : 0.3522937632040056\n",
      "Mean roc_auc of dtc_pca_binary_smote : 0.655323942805167\n",
      "STD f1 of dtc_pca_binary_smote : 0.0030968591551468563\n",
      "STD roc_auc of dtc_pca_binary_smote : 0.002696675214170696\n",
      "\n",
      "Mean f1 of dtc_pca_rare_ros : 0.2681653149820137\n",
      "Mean roc_auc of dtc_pca_rare_ros : 0.5830517183752943\n",
      "STD f1 of dtc_pca_rare_ros : 0.004127740488720576\n",
      "STD roc_auc of dtc_pca_rare_ros : 0.0023312050455231562\n",
      "\n",
      "Mean f1 of dtc_pca_rare_smote : 0.34764132516728824\n",
      "Mean roc_auc of dtc_pca_rare_smote : 0.6559955267723744\n",
      "STD f1 of dtc_pca_rare_smote : 0.0042919115043753495\n",
      "STD roc_auc of dtc_pca_rare_smote : 0.0033752860937852174\n",
      "\n",
      "Mean f1 of dtc_poly_binary_ros : 0.2873379337146209\n",
      "Mean roc_auc of dtc_poly_binary_ros : 0.5938508558819758\n",
      "STD f1 of dtc_poly_binary_ros : 0.008077622476275572\n",
      "STD roc_auc of dtc_poly_binary_ros : 0.004560335383901267\n",
      "\n",
      "Mean f1 of dtc_poly_binary_smote : 0.301170445633247\n",
      "Mean roc_auc of dtc_poly_binary_smote : 0.604286037868101\n",
      "STD f1 of dtc_poly_binary_smote : 0.004855165077862812\n",
      "STD roc_auc of dtc_poly_binary_smote : 0.0028790893962380255\n",
      "\n",
      "Mean f1 of dtc_poly_rare_ros : 0.2859167553396799\n",
      "Mean roc_auc of dtc_poly_rare_ros : 0.5932036655676688\n",
      "STD f1 of dtc_poly_rare_ros : 0.003073294536914117\n",
      "STD roc_auc of dtc_poly_rare_ros : 0.0018795178874726902\n",
      "\n",
      "Mean f1 of dtc_poly_rare_smote : 0.2965865783913543\n",
      "Mean roc_auc of dtc_poly_rare_smote : 0.60262534966475\n",
      "STD f1 of dtc_poly_rare_smote : 0.004371527800034912\n",
      "STD roc_auc of dtc_poly_rare_smote : 0.0027518432626109624\n",
      "\n",
      "Mean f1 of lgbm_pca_binary_ros : 0.4260602122258385\n",
      "Mean roc_auc of lgbm_pca_binary_ros : 0.8468544217491075\n",
      "STD f1 of lgbm_pca_binary_ros : 0.0023513068739335267\n",
      "STD roc_auc of lgbm_pca_binary_ros : 0.0009695685214340501\n",
      "\n",
      "Mean f1 of lgbm_pca_binary_smote : 0.4329652626439181\n",
      "Mean roc_auc of lgbm_pca_binary_smote : 0.8424042970134886\n",
      "STD f1 of lgbm_pca_binary_smote : 0.002053610200764118\n",
      "STD roc_auc of lgbm_pca_binary_smote : 0.0013527186724102147\n",
      "\n",
      "Mean f1 of lgbm_pca_rare_ros : 0.42230834491959157\n",
      "Mean roc_auc of lgbm_pca_rare_ros : 0.8412705464509397\n",
      "STD f1 of lgbm_pca_rare_ros : 0.0015012730554153542\n",
      "STD roc_auc of lgbm_pca_rare_ros : 0.001575263535123032\n",
      "\n",
      "Mean f1 of lgbm_pca_rare_smote : 0.4222668852894674\n",
      "Mean roc_auc of lgbm_pca_rare_smote : 0.8406364267784996\n",
      "STD f1 of lgbm_pca_rare_smote : 0.0015478512173297126\n",
      "STD roc_auc of lgbm_pca_rare_smote : 0.0017758995637784634\n",
      "\n",
      "Mean f1 of lgbm_poly_binary_ros : 0.4299730509763025\n",
      "Mean roc_auc of lgbm_poly_binary_ros : 0.8548903726455791\n",
      "STD f1 of lgbm_poly_binary_ros : 0.0018379305288705602\n",
      "STD roc_auc of lgbm_poly_binary_ros : 0.0007967110355468109\n",
      "\n",
      "Mean f1 of lgbm_poly_binary_smote : 0.38585951076895136\n",
      "Mean roc_auc of lgbm_poly_binary_smote : 0.8492575196724468\n",
      "STD f1 of lgbm_poly_binary_smote : 0.005278082875869635\n",
      "STD roc_auc of lgbm_poly_binary_smote : 0.0007517836986646316\n",
      "\n",
      "Mean f1 of lgbm_poly_rare_ros : 0.4279933604288201\n",
      "Mean roc_auc of lgbm_poly_rare_ros : 0.85282051127889\n",
      "STD f1 of lgbm_poly_rare_ros : 0.0011349437956423793\n",
      "STD roc_auc of lgbm_poly_rare_ros : 0.0012691731524710381\n",
      "\n",
      "Mean f1 of lgbm_poly_rare_smote : 0.428725439060954\n",
      "Mean roc_auc of lgbm_poly_rare_smote : 0.8459896063774647\n",
      "STD f1 of lgbm_poly_rare_smote : 0.004300249291521014\n",
      "STD roc_auc of lgbm_poly_rare_smote : 0.0012704034613534492\n",
      "\n"
     ]
    }
   ],
   "source": [
    "for m in ['lr', 'dtc', 'lgbm']:\n",
    "    for n in ['pca', 'poly']:\n",
    "        for rpsc in ['binary', 'rare']:\n",
    "            for sam in ['ros', 'smote']:\n",
    "                _ , model_cv = try_models_no_out(model=m, num=n, region_psc=rpsc, sampling=sam)\n",
    "                \n",
    "                print(f\"Mean f1 of {m}_{n}_{rpsc}_{sam} : {model_cv.test_f1.mean()}\")\n",
    "                print(f\"Mean roc_auc of {m}_{n}_{rpsc}_{sam} : {model_cv.test_roc_auc.mean()}\")\n",
    "                print(f\"STD f1 of {m}_{n}_{rpsc}_{sam} : {model_cv.test_f1.std()}\")\n",
    "                print(f\"STD roc_auc of {m}_{n}_{rpsc}_{sam} : {model_cv.test_roc_auc.std()}\")\n",
    "                print(\"\")"
   ]
  },
  {
   "cell_type": "markdown",
   "metadata": {},
   "source": [
    "Although the outliers removal slightly increasing the AUC score of some models, the f1 score is decreasing instead.\n",
    "\n",
    "To make sure, let's test these models using the test data"
   ]
  },
  {
   "cell_type": "code",
   "execution_count": 24,
   "metadata": {},
   "outputs": [],
   "source": [
    "estimator_lr , _ = try_models_no_out(model='lr', num='poly', region_psc='binary', sampling='smote')\n",
    "estimator_lgbm, _ = try_models_no_out(model='lgbm', num='pca', region_psc='binary', sampling='smote')"
   ]
  },
  {
   "cell_type": "code",
   "execution_count": 25,
   "metadata": {},
   "outputs": [
    {
     "name": "stdout",
     "output_type": "stream",
     "text": [
      "f1 score: 0.4251868081557907\n",
      "AUC score: 0.844374842365559\n"
     ]
    }
   ],
   "source": [
    "estimator_lr.fit(X_train_val_filtered, y_train_val_filtered)\n",
    "y_lr_pred_filtered = estimator_lr.predict(X_test)\n",
    "y_lr_proba_filtered = estimator_lr.predict_proba(X_test)[:,1]\n",
    "print(f'f1 score: {f1_score(y_test, y_lr_pred_filtered)}')\n",
    "print(f'AUC score: {roc_auc_score(y_test, y_lr_proba_filtered)}')"
   ]
  },
  {
   "cell_type": "code",
   "execution_count": 26,
   "metadata": {},
   "outputs": [
    {
     "name": "stdout",
     "output_type": "stream",
     "text": [
      "f1 score: 0.4345362467684244\n",
      "AUC score: 0.8422938066822434\n"
     ]
    }
   ],
   "source": [
    "estimator_lgbm.fit(X_train_val_filtered, y_train_val_filtered)\n",
    "y_lgbm_pred_filtered = estimator_lgbm.predict(X_test)\n",
    "y_lgbm_proba_filtered = estimator_lgbm.predict_proba(X_test)[:,1]\n",
    "print(f'f1 score: {f1_score(y_test, y_lgbm_pred_filtered)}')\n",
    "print(f'AUC score: {roc_auc_score(y_test, y_lgbm_proba_filtered)}')"
   ]
  },
  {
   "cell_type": "markdown",
   "metadata": {},
   "source": [
    "Surprisingly, the outliers removal gives slightly better generalization on the test data for the LightGBM model. Moreover, the cross validation stability of the f1 score is also better (0.4... vs 0.2...)"
   ]
  },
  {
   "cell_type": "markdown",
   "metadata": {},
   "source": [
    "## Probability Analysis"
   ]
  },
  {
   "cell_type": "code",
   "execution_count": 27,
   "metadata": {},
   "outputs": [],
   "source": [
    "def plot_calibration_curve(y_true, probs, bins, model):\n",
    "\n",
    "    fraction_of_positives, mean_predicted_value = calibration_curve(\n",
    "        y_true, probs, n_bins=bins, strategy='uniform')\n",
    "    \n",
    "    max_val = max(mean_predicted_value)\n",
    "    \n",
    "    plt.figure(figsize=(8,10))\n",
    "    plt.subplot(2, 1, 1)\n",
    "    plt.plot(mean_predicted_value, fraction_of_positives, label=type(model).__name__)\n",
    "    plt.plot(np.linspace(0, max_val, bins), np.linspace(0, max_val, bins),\n",
    "         linestyle='--', color='red', label='Perfect calibration')\n",
    "    \n",
    "    plt.xlabel('Probability Predictions')\n",
    "    plt.ylabel('Fraction of positive examples')\n",
    "    plt.title('Calibration Curve')\n",
    "    plt.legend(loc='upper left')\n",
    "\n",
    "\n",
    "    plt.subplot(2, 1, 2)\n",
    "    plt.hist(probs, range=(0, 1), bins=bins, density=False, stacked=True, alpha=0.3)\n",
    "    plt.xlabel('Probability Predictions')\n",
    "    plt.ylabel('Fraction of examples')\n",
    "    plt.title('Density')\n",
    "    plt.show()"
   ]
  },
  {
   "cell_type": "code",
   "execution_count": 28,
   "metadata": {},
   "outputs": [],
   "source": [
    "estimator_lr, _ = try_models(model='lr', num='poly', region_psc='binary', sampling='smote')\n",
    "estimator_lgbm, _ = try_models(model='lgbm', num='pca', region_psc='binary', sampling='smote')"
   ]
  },
  {
   "cell_type": "code",
   "execution_count": 29,
   "metadata": {},
   "outputs": [
    {
     "data": {
      "image/png": "[encoded data removed]",
      "text/plain": [
       "<Figure size 576x720 with 2 Axes>"
      ]
     },
     "metadata": {
      "needs_background": "light"
     },
     "output_type": "display_data"
    }
   ],
   "source": [
    "estimator_lr.fit(X_train_val, y_train_val)\n",
    "lr_proba = estimator_lr.predict_proba(X_test)[:, 1]\n",
    "plot_calibration_curve(y_test, lr_proba, bins=8, model=estimator_lr)"
   ]
  },
  {
   "cell_type": "code",
   "execution_count": 30,
   "metadata": {},
   "outputs": [
    {
     "data": {
      "image/png": "[encoded data removed]",
      "text/plain": [
       "<Figure size 576x720 with 2 Axes>"
      ]
     },
     "metadata": {
      "needs_background": "light"
     },
     "output_type": "display_data"
    }
   ],
   "source": [
    "estimator_lgbm.fit(X_train_val, y_train_val)\n",
    "lgbm_proba = estimator_lgbm.predict_proba(X_test)[:, 1]\n",
    "plot_calibration_curve(y_test, lgbm_proba, bins=8, model=estimator_lgbm)"
   ]
  },
  {
   "cell_type": "markdown",
   "metadata": {},
   "source": [
    "> ### Callibrating classifiers"
   ]
  },
  {
   "cell_type": "code",
   "execution_count": 31,
   "metadata": {},
   "outputs": [],
   "source": [
    "def try_models_callib(\n",
    "    model='lr',\n",
    "    num='pca',\n",
    "    region_psc='binary',\n",
    "    sampling='ros',\n",
    "    cal='isotonic'\n",
    "):\n",
    "    oh_enc = OneHotEncoder(drop='first')\n",
    "    binary_enc = ce.BinaryEncoder()\n",
    "    rare_encoder = RareLabelCategoricalEncoder(\n",
    "        tol = 0.05,  # minimal percentage to be considered non-rare\n",
    "        n_categories = 4, # minimal number of categories the variable should have to re-cgroup rare categories\n",
    "        variables = ['Region_Code', 'Policy_Sales_Channel'] # variables to re-group\n",
    "    )  \n",
    "    scaler = StandardScaler()\n",
    "    pca = PCA(n_components=2)\n",
    "    poly = PolynomialFeatures(degree=2)\n",
    "    ros = RandomOverSampler(random_state=2021)\n",
    "    smote = SMOTE(random_state=2021)\n",
    "    \n",
    "    lr = LogisticRegression()\n",
    "    dtc = DecisionTreeClassifier()\n",
    "    lgbm = LGBMClassifier(n_jobs=-1)\n",
    "    skf = StratifiedKFold(n_splits=5)\n",
    "    \n",
    "    if num == 'pca':\n",
    "        num_pipe = Pipeline([\n",
    "            ('scaler', scaler),\n",
    "            ('pca', pca)\n",
    "        ])\n",
    "    elif num == 'poly':\n",
    "        num_pipe = Pipeline([\n",
    "            ('scaler', scaler),\n",
    "            ('poly', poly)\n",
    "        ])\n",
    "    \n",
    "    if region_psc == 'binary':\n",
    "        region_psc_pipe = Pipeline([\n",
    "            ('binary', binary_enc)\n",
    "        ])\n",
    "    elif region_psc == 'rare':\n",
    "        region_psc_pipe = Pipeline([\n",
    "            ('rare', rare_encoder),\n",
    "            ('binary_rare', binary_enc)\n",
    "        ])\n",
    "        \n",
    "    transformer = ColumnTransformer([\n",
    "        ('one_hot_encoder', OneHotEncoder(drop='first'), ['Gender', 'Vehicle_Age', 'Vehicle_Damage']),\n",
    "        ('numerical_prep', num_pipe, ['Age', 'Vintage', 'Annual_Premium']),\n",
    "        ('region_psc_pred', region_psc_pipe, ['Region_Code', 'Policy_Sales_Channel'])\n",
    "    ], remainder='passthrough')\n",
    "    \n",
    "    if sampling == 'ros':\n",
    "        res = ros\n",
    "    elif sampling == 'smote':\n",
    "        res = smote\n",
    "    \n",
    "    if model == 'lr':\n",
    "        clf = lr\n",
    "        cal = CalibratedClassifierCV(base_estimator=clf, \n",
    "                                     cv=10, method=cal)\n",
    "    elif model == 'lgbm':\n",
    "        clf = lgbm\n",
    "        cal = CalibratedClassifierCV(base_estimator=clf, \n",
    "                                     cv=10, method=cal)\n",
    "        \n",
    "    estimator = Pipeline([\n",
    "        ('preprocess', transformer),\n",
    "        ('balancing', res),\n",
    "        ('cal', cal)\n",
    "    ])\n",
    "        \n",
    "    model_cv = cross_validate(estimator, X_train_val, y_train_val, cv=skf, \n",
    "                              scoring=('f1', 'roc_auc'))\n",
    "    \n",
    "    return estimator, pd.DataFrame(model_cv)"
   ]
  },
  {
   "cell_type": "code",
   "execution_count": 32,
   "metadata": {},
   "outputs": [],
   "source": [
    "estimator_lr_iso, lr_iso_cv = try_models_callib(model='lr', \n",
    "                                                num='poly', \n",
    "                                                region_psc='binary', \n",
    "                                                sampling='smote', \n",
    "                                                cal='isotonic')\n",
    "\n",
    "estimator_lgbm_iso, lgbm_iso_cv = try_models_callib(model='lgbm', \n",
    "                                                num='pca', \n",
    "                                                region_psc='binary', \n",
    "                                                sampling='smote', \n",
    "                                                cal='isotonic')\n",
    "\n",
    "estimator_lr_sig, lr_sig_cv = try_models_callib(model='lr', \n",
    "                                                num='poly', \n",
    "                                                region_psc='binary', \n",
    "                                                sampling='smote', \n",
    "                                                cal='sigmoid')\n",
    "\n",
    "estimator_lgbm_sig, lgbm_sig_cv = try_models_callib(model='lgbm', \n",
    "                                                num='pca', \n",
    "                                                region_psc='binary', \n",
    "                                                sampling='smote', \n",
    "                                                cal='sigmoid')"
   ]
  },
  {
   "cell_type": "code",
   "execution_count": 33,
   "metadata": {},
   "outputs": [
    {
     "name": "stdout",
     "output_type": "stream",
     "text": [
      "Mean f1 0.4256810124207693\n",
      "Mean AUC 0.8434246876939333\n"
     ]
    }
   ],
   "source": [
    "print(f'Mean f1 {lr_iso_cv.test_f1.mean()}') \n",
    "print(f'Mean AUC {lr_iso_cv.test_roc_auc.mean()}') "
   ]
  },
  {
   "cell_type": "code",
   "execution_count": 34,
   "metadata": {},
   "outputs": [
    {
     "name": "stdout",
     "output_type": "stream",
     "text": [
      "Mean f1 0.43699464144327893\n",
      "Mean AUC 0.8423579657285771\n"
     ]
    }
   ],
   "source": [
    "print(f'Mean f1 {lgbm_iso_cv.test_f1.mean()}') \n",
    "print(f'Mean AUC {lgbm_iso_cv.test_roc_auc.mean()}') "
   ]
  },
  {
   "cell_type": "code",
   "execution_count": 35,
   "metadata": {},
   "outputs": [
    {
     "name": "stdout",
     "output_type": "stream",
     "text": [
      "Mean f1 0.4231550726610805\n",
      "Mean AUC 0.8434364847297724\n"
     ]
    }
   ],
   "source": [
    "print(f'Mean f1 {lr_sig_cv.test_f1.mean()}') \n",
    "print(f'Mean AUC {lr_sig_cv.test_roc_auc.mean()}') "
   ]
  },
  {
   "cell_type": "code",
   "execution_count": 36,
   "metadata": {},
   "outputs": [
    {
     "name": "stdout",
     "output_type": "stream",
     "text": [
      "Mean f1 0.4373985179029864\n",
      "Mean AUC 0.8422010247230111\n"
     ]
    }
   ],
   "source": [
    "print(f'Mean f1 {lgbm_sig_cv.test_f1.mean()}') \n",
    "print(f'Mean AUC {lgbm_sig_cv.test_roc_auc.mean()}') "
   ]
  },
  {
   "cell_type": "code",
   "execution_count": 37,
   "metadata": {},
   "outputs": [
    {
     "data": {
      "image/png": "[encoded data removed]",
      "text/plain": [
       "<Figure size 576x720 with 2 Axes>"
      ]
     },
     "metadata": {
      "needs_background": "light"
     },
     "output_type": "display_data"
    }
   ],
   "source": [
    "estimator_lr_iso.fit(X_train_val, y_train_val)\n",
    "lr_iso_proba = estimator_lr_iso.predict_proba(X_test)[:, 1]\n",
    "plot_calibration_curve(y_test, lr_iso_proba, bins=8, model=estimator_lr_iso)"
   ]
  },
  {
   "cell_type": "code",
   "execution_count": 38,
   "metadata": {},
   "outputs": [
    {
     "data": {
      "image/png": "[encoded data removed]",
      "text/plain": [
       "<Figure size 576x720 with 2 Axes>"
      ]
     },
     "metadata": {
      "needs_background": "light"
     },
     "output_type": "display_data"
    }
   ],
   "source": [
    "estimator_lr_sig.fit(X_train_val, y_train_val)\n",
    "lr_iso_proba = estimator_lr_sig.predict_proba(X_test)[:, 1]\n",
    "plot_calibration_curve(y_test, lr_iso_proba, bins=8, model=estimator_lr_sig)"
   ]
  },
  {
   "cell_type": "code",
   "execution_count": 39,
   "metadata": {},
   "outputs": [
    {
     "data": {
      "image/png": "[encoded data removed]",
      "text/plain": [
       "<Figure size 576x720 with 2 Axes>"
      ]
     },
     "metadata": {
      "needs_background": "light"
     },
     "output_type": "display_data"
    }
   ],
   "source": [
    "estimator_lgbm_iso.fit(X_train_val, y_train_val)\n",
    "lgbm_iso_proba = estimator_lgbm_iso.predict_proba(X_test)[:, 1]\n",
    "plot_calibration_curve(y_test, lgbm_iso_proba, bins=8, model=estimator_lgbm_iso)"
   ]
  },
  {
   "cell_type": "code",
   "execution_count": 40,
   "metadata": {},
   "outputs": [
    {
     "data": {
      "image/png": "[encoded data removed]",
      "text/plain": [
       "<Figure size 576x720 with 2 Axes>"
      ]
     },
     "metadata": {
      "needs_background": "light"
     },
     "output_type": "display_data"
    }
   ],
   "source": [
    "estimator_lgbm_sig.fit(X_train_val, y_train_val)\n",
    "lgbm_sig_proba = estimator_lgbm_sig.predict_proba(X_test)[:, 1]\n",
    "plot_calibration_curve(y_test, lgbm_sig_proba, bins=8, model=estimator_lgbm_sig)"
   ]
  },
  {
   "cell_type": "markdown",
   "metadata": {},
   "source": [
    "## Save model"
   ]
  },
  {
   "cell_type": "markdown",
   "metadata": {},
   "source": [
    "For further analysis and exploration on the models performance, I decide to save them all"
   ]
  },
  {
   "cell_type": "code",
   "execution_count": 41,
   "metadata": {},
   "outputs": [],
   "source": [
    "import pickle"
   ]
  },
  {
   "cell_type": "code",
   "execution_count": 42,
   "metadata": {},
   "outputs": [],
   "source": [
    "pickle.dump(estimator_lr, open('estimator_lr.sav', 'wb'))\n",
    "pickle.dump(estimator_lgbm, open('estimator_lgbm.sav', 'wb'))\n",
    "pickle.dump(estimator_lr_iso, open('estimator_lr_iso.sav', 'wb'))\n",
    "pickle.dump(estimator_lgbm_iso, open('estimator_lgbm_iso.sav', 'wb'))\n",
    "pickle.dump(estimator_lr_sig, open('estimator_lr_sig.sav', 'wb'))\n",
    "pickle.dump(estimator_lgbm_sig, open('estimator_lgbm_sig.sav', 'wb'))"
   ]
  }
 ],
 "metadata": {
  "kernelspec": {
   "display_name": "Python 3",
   "language": "python",
   "name": "python3"
  },
  "language_info": {
   "codemirror_mode": {
    "name": "ipython",
    "version": 3
   },
   "file_extension": ".py",
   "mimetype": "text/x-python",
   "name": "python",
   "nbconvert_exporter": "python",
   "pygments_lexer": "ipython3",
   "version": "3.7.4"
  }
 },
 "nbformat": 4,
 "nbformat_minor": 2
}
